{
 "cells": [
  {
   "attachments": {},
   "cell_type": "markdown",
   "metadata": {},
   "source": [
    "# Studi Kasus Bukit Darmo Property"
   ]
  },
  {
   "attachments": {},
   "cell_type": "markdown",
   "metadata": {},
   "source": [
    "# PROSES PERAMALAN MODEL SAMPAI TAHUN 2025 JUNI"
   ]
  },
  {
   "attachments": {},
   "cell_type": "markdown",
   "metadata": {},
   "source": [
    "## PROFILE KELOMPOK\n",
    "\n",
    "\n",
    "NPM KETUA : 200411100153\n",
    "\n",
    "NAMA KETUA : FIKRI AINUN NAJIB\n",
    "\n",
    "NPM ANGGOTA : 200411100166\n",
    "\n",
    "NAMA ANGGOTA : GHANIY ALBAR RASYIDI KUSUMA\n",
    "\n",
    "GITHUB : https://github.com/LALA09-erha/Streamlit-bukitdarmoproperty-UAS\n",
    "\n",
    "DATASET : https://finance.yahoo.com/quote/BKDP.JK/history?p=BKDP.JK\n",
    "\n",
    "\n",
    "KELAS PSD C"
   ]
  },
  {
   "attachments": {},
   "cell_type": "markdown",
   "metadata": {},
   "source": [
    "Inisialisasi Libary dan beberapa Model"
   ]
  },
  {
   "cell_type": "code",
   "execution_count": 13,
   "metadata": {},
   "outputs": [],
   "source": [
    "import pandas as pd\n",
    "from sklearn.model_selection import train_test_split\n",
    "from sklearn.preprocessing import MinMaxScaler\n",
    "import numpy as np\n",
    "from numpy import array\n",
    "from sklearn.neighbors import KNeighborsRegressor\n",
    "import matplotlib.pyplot as plt\n",
    "from sklearn.svm import SVR\n",
    "from sklearn.ensemble import BaggingRegressor\n",
    "from sklearn.ensemble import RandomForestRegressor\n",
    "import datetime\n",
    "from dateutil.relativedelta import relativedelta\n",
    "from sklearn.tree import DecisionTreeRegressor\n",
    "\n",
    "from sklearn.decomposition import PCA\n",
    "\n"
   ]
  },
  {
   "attachments": {},
   "cell_type": "markdown",
   "metadata": {},
   "source": [
    "Pengambilan data"
   ]
  },
  {
   "cell_type": "code",
   "execution_count": 14,
   "metadata": {},
   "outputs": [],
   "source": [
    "data = pd.read_csv(\"../Data/BKDP.JK.csv\")\n",
    "\n",
    "# drop Date column from data\n",
    "data = data['Volume']\n",
    "\n"
   ]
  },
  {
   "attachments": {},
   "cell_type": "markdown",
   "metadata": {},
   "source": [
    "Split Data"
   ]
  },
  {
   "cell_type": "code",
   "execution_count": 15,
   "metadata": {},
   "outputs": [],
   "source": [
    "data_training,data_test = train_test_split(data, train_size=0.8, test_size=0.2, shuffle=False, random_state=42)"
   ]
  },
  {
   "cell_type": "code",
   "execution_count": 16,
   "metadata": {},
   "outputs": [],
   "source": [
    "data_training_new = pd.DataFrame(data_training)\n",
    "data_test_new = pd.DataFrame(data_test)"
   ]
  },
  {
   "attachments": {},
   "cell_type": "markdown",
   "metadata": {},
   "source": [
    "fungsi Cross Validation"
   ]
  },
  {
   "cell_type": "code",
   "execution_count": 17,
   "metadata": {},
   "outputs": [],
   "source": [
    "# Cross Validation\n",
    "# split a univariate sequence into samples\n",
    "def split_sequence(sequence, n_steps):\n",
    "  X, y = list(), list()\n",
    "  for i in range(len(sequence)):\n",
    "    # find the end of this pattern\n",
    "    end_ix = i + n_steps\n",
    "    # check if we are beyond the sequence\n",
    "    if end_ix > len(sequence)-1:\n",
    "      break\n",
    "    # gather input and output parts of the pattern\n",
    "    seq_x, seq_y = sequence[i:end_ix], sequence[end_ix]\n",
    "    X.append(seq_x)\n",
    "    y.append(seq_y)\n",
    "  \n",
    "  return array(X), array(y)\n",
    "# define univariate time series"
   ]
  },
  {
   "attachments": {},
   "cell_type": "markdown",
   "metadata": {},
   "source": [
    "Eksekusi Export Data Ke CSV"
   ]
  },
  {
   "cell_type": "code",
   "execution_count": 18,
   "metadata": {},
   "outputs": [],
   "source": [
    "# PROSES MEMASUKKAN DATA PREDIKSI KE CSV\n",
    "# membuat dataframe kosong dengan 3 kolom\n",
    "data_final = pd.DataFrame(columns=['Date','Volume'])\n",
    "# berawal pada 1995-september\n",
    "start_date = datetime.date(2023, 6, 16)\n",
    " \n",
    "# berakhir pada 2023-januari \n",
    "end_date = datetime.date(2026, 6, 16)\n",
    "\n",
    "# loop setiap bulan\n",
    "delta = relativedelta(days=1)\n",
    "while start_date <= end_date:\n",
    "  n = 4\n",
    "  tanggal = start_date.strftime(\"%Y-%m-%d\")\n",
    "  # Preprosssing data\n",
    "  sc = MinMaxScaler()\n",
    "  train_scaled = sc.fit_transform(data_training_new)\n",
    "  test_scaled = sc.transform(data_test_new)\n",
    "\n",
    "  # Proses Pemanggilan Cross Validation \n",
    "  X_train, y_train = split_sequence(train_scaled, n) \n",
    "  X_test, y_test = split_sequence(test_scaled, n) \n",
    "  # membuat kolom otomatis\n",
    "  colom = []\n",
    "  for c in range(n):\n",
    "      if(c==0):\n",
    "          colom.insert(0,\"Xt\")\n",
    "      else:\n",
    "          colom.insert(0,f\"Xt-{c}\")\n",
    "\n",
    "\n",
    "\n",
    "  # # Masukkan ke dataframe hasil dari split  squens\n",
    "  # UNTUK MEMISAHKAN X TRAIN, YTRAIN dan TEST\n",
    "  newX_train = pd.DataFrame(np.reshape(X_train, (len(X_train) , n)),columns=colom)\n",
    "  newY_train = pd.DataFrame(y_train, columns=['Output'])\n",
    "  new_data_train = pd.concat([newX_train,newY_train],axis=1)\n",
    "  newX_test = pd.DataFrame(np.reshape(X_test, (len(X_test) , n)),columns=colom)\n",
    "  newY_test = pd.DataFrame(y_test, columns=['Output'])\n",
    "  new_data_test = pd.concat([newX_test,newY_test],axis=1)\n",
    "\n",
    "  # EKSEKUSI KE model\n",
    "\n",
    "\n",
    "  #  Predict dengan KNN\n",
    "  knn = KNeighborsRegressor(n_neighbors=27)\n",
    "  knn.fit(newX_train, newY_train)\n",
    "  y_pred_knn = knn.predict(newX_test)\n",
    "  y_pred_knn_shape = y_pred_knn.reshape(-1,1)\n",
    "  y_pred_knn_inverse = sc.inverse_transform(y_pred_knn_shape)\n",
    "\n",
    "  # mean dari 3 model dimasukkan ke dataframe data_test_new \n",
    "  data_final = pd.concat([data_final,pd.DataFrame({'Date':tanggal,'Volume':[int(np.round(y_pred_knn_inverse[-1][0]))]})],axis=0)\n",
    "  data_test_new = pd.concat([data_test_new,pd.DataFrame({'Volume':np.round(np.mean([(y_pred_knn_inverse[-1])]))},index=  [0] )],axis=0)\n",
    "  start_date += delta\n",
    "\n",
    "# save data to csv\n",
    "data_final.to_csv('../Data/prediksijanuari2023.csv', index=False)\n",
    "data_test_new.to_csv('../Data/zatatestjanuari2023.csv', index=False)\n",
    "\n"
   ]
  }
 ],
 "metadata": {
  "kernelspec": {
   "display_name": "Python 3",
   "language": "python",
   "name": "python3"
  },
  "language_info": {
   "codemirror_mode": {
    "name": "ipython",
    "version": 3
   },
   "file_extension": ".py",
   "mimetype": "text/x-python",
   "name": "python",
   "nbconvert_exporter": "python",
   "pygments_lexer": "ipython3",
   "version": "3.11.3"
  },
  "orig_nbformat": 4
 },
 "nbformat": 4,
 "nbformat_minor": 2
}
