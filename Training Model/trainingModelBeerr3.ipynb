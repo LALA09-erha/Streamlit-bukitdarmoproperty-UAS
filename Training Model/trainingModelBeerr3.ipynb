{
 "cells": [
  {
   "attachments": {},
   "cell_type": "markdown",
   "metadata": {},
   "source": [
    "# Studi Kasus Beer Production"
   ]
  },
  {
   "attachments": {},
   "cell_type": "markdown",
   "metadata": {},
   "source": [
    "# PROSES EKSEKUSI UNTUK EXPORT MODEL"
   ]
  },
  {
   "attachments": {},
   "cell_type": "markdown",
   "metadata": {},
   "source": [
    "## PROFILE KELOMPOK\n",
    "\n",
    "\n",
    "NPM KETUA : 200411100153\n",
    "\n",
    "NAMA KETUA : FIKRI AINUN NAJIB\n",
    "\n",
    "NPM ANGGOTA : 200411100166\n",
    "\n",
    "NAMA ANGGOTA : GHANIY ALBAR RASYIDI KUSUMA\n",
    "\n",
    "GITHUB : https://github.com/LALA09-erha/kolaborasipro\n",
    "\n",
    "DATASET : https://www.kaggle.com/datasets/shenba/time-series-datasets?select=monthly-beer-production-in-austr.csv\n",
    "\n",
    "\n",
    "KELAS PSD C"
   ]
  },
  {
   "attachments": {},
   "cell_type": "markdown",
   "metadata": {},
   "source": [
    "Inisialisasi Libary dan beberapa Model"
   ]
  },
  {
   "cell_type": "code",
   "execution_count": 15,
   "metadata": {},
   "outputs": [],
   "source": [
    "import pandas as pd\n",
    "from sklearn.model_selection import train_test_split\n",
    "from sklearn.preprocessing import MinMaxScaler\n",
    "import numpy as np\n",
    "from numpy import array\n",
    "from sklearn.neighbors import KNeighborsRegressor\n",
    "import matplotlib.pyplot as plt\n",
    "from sklearn.metrics import mean_absolute_percentage_error\n",
    "from sklearn.svm import SVR\n",
    "from sklearn.ensemble import BaggingRegressor\n",
    "from sklearn.ensemble import RandomForestRegressor\n",
    "\n",
    "import joblib\n",
    "\n"
   ]
  },
  {
   "attachments": {},
   "cell_type": "markdown",
   "metadata": {},
   "source": [
    "Pengambilan data"
   ]
  },
  {
   "cell_type": "code",
   "execution_count": 16,
   "metadata": {},
   "outputs": [],
   "source": [
    "data = pd.read_csv(\"../Data/monthly-beer-production-in-austr.csv\")\n",
    "\n",
    "# add new data input to the dataframe\n",
    "# data = data.append({'Month': '1995-09', 'Monthly beer production': 0}, ignore_index=True)\n",
    "data = data ['Monthly beer production']\n"
   ]
  },
  {
   "attachments": {},
   "cell_type": "markdown",
   "metadata": {},
   "source": [
    "Split Data"
   ]
  },
  {
   "cell_type": "code",
   "execution_count": 17,
   "metadata": {},
   "outputs": [],
   "source": [
    "data_training,data_test = train_test_split(data, train_size=0.8, test_size=0.2, shuffle=False, random_state=42)"
   ]
  },
  {
   "cell_type": "code",
   "execution_count": 18,
   "metadata": {},
   "outputs": [],
   "source": [
    "data_training_new = pd.DataFrame(data_training)\n",
    "data_test_new = pd.DataFrame(data_test)"
   ]
  },
  {
   "attachments": {},
   "cell_type": "markdown",
   "metadata": {},
   "source": [
    "Preprosessing Data"
   ]
  },
  {
   "cell_type": "code",
   "execution_count": 19,
   "metadata": {},
   "outputs": [],
   "source": [
    "sc = MinMaxScaler()\n",
    "train_scaled = sc.fit_transform(data_training_new)\n",
    "test_scaled = sc.transform(data_test_new)"
   ]
  },
  {
   "attachments": {},
   "cell_type": "markdown",
   "metadata": {},
   "source": [
    "PROSES PENYIMPANAN NORMALISASI MIN MAX"
   ]
  },
  {
   "cell_type": "code",
   "execution_count": 20,
   "metadata": {},
   "outputs": [
    {
     "data": {
      "text/plain": [
       "['../Model/norm.sav']"
      ]
     },
     "execution_count": 20,
     "metadata": {},
     "output_type": "execute_result"
    }
   ],
   "source": [
    "filename = '../Model/norm.sav'\n",
    "joblib.dump(sc, filename) "
   ]
  },
  {
   "attachments": {},
   "cell_type": "markdown",
   "metadata": {},
   "source": [
    "fungsi Cross Validation"
   ]
  },
  {
   "cell_type": "code",
   "execution_count": 21,
   "metadata": {},
   "outputs": [],
   "source": [
    "# Cross Validation\n",
    "# split a univariate sequence into samples\n",
    "def split_sequence(sequence, n_steps):\n",
    "  X, y = list(), list()\n",
    "  for i in range(len(sequence)):\n",
    "    # find the end of this pattern\n",
    "    end_ix = i + n_steps\n",
    "    # check if we are beyond the sequence\n",
    "    if end_ix > len(sequence)-1:\n",
    "      break\n",
    "    # gather input and output parts of the pattern\n",
    "    seq_x, seq_y = sequence[i:end_ix], sequence[end_ix]\n",
    "    X.append(seq_x)\n",
    "    y.append(seq_y)\n",
    "  \n",
    "  return array(X), array(y)\n",
    "# define univariate time series"
   ]
  },
  {
   "attachments": {},
   "cell_type": "markdown",
   "metadata": {},
   "source": [
    "Eksekusi Export Model Berdasarkan Model Terbaik Pada Training Model "
   ]
  },
  {
   "cell_type": "code",
   "execution_count": 22,
   "metadata": {},
   "outputs": [
    {
     "name": "stdout",
     "output_type": "stream",
     "text": [
      "KNN k = 4 n = 6 MAPE = 0.0707448021927608\n"
     ]
    },
    {
     "name": "stdout",
     "output_type": "stream",
     "text": [
      "SVR n_estimators = 2 n = 6 MAPE = 0.07518563792189382\n",
      "Random Forest max_depth = 8 n = 6 MAPE = 0.07279313958249832\n"
     ]
    }
   ],
   "source": [
    "# inisialisasi variabel untuk menampung hasil akurasi dan n_steps\n",
    "n_steps = range(6,7)\n",
    "acc_fix = {}\n",
    "\n",
    "for n in n_steps:\n",
    "    # Proses Pemanggilan Cross Validation \n",
    "    X_train, y_train = split_sequence(train_scaled, n) \n",
    "    X_test, y_test = split_sequence(test_scaled, n) \n",
    "\n",
    "    # membuat kolom otomatis\n",
    "    colom = []\n",
    "    for c in range(n):\n",
    "        if(c==0):\n",
    "            colom.insert(0,\"Xt\")\n",
    "        else:\n",
    "            colom.insert(0,f\"Xt-{c}\")\n",
    "\n",
    "    # # Masukkan ke dataframe hasil dari split  squens\n",
    "    # UNTUK MEMISAHKAN X TRAIN, YTRAIN dan TEST\n",
    "    newX_train = pd.DataFrame(np.reshape(X_train, (len(X_train) , n)),columns=colom)\n",
    "    newY_train = pd.DataFrame(y_train, columns=['Output'])\n",
    "    new_data_train = pd.concat([newX_train,newY_train],axis=1)\n",
    "\n",
    "    newX_test = pd.DataFrame(np.reshape(X_test, (len(X_test) , n)),columns=colom)\n",
    "    newY_test = pd.DataFrame(y_test, columns=['Output'])\n",
    "    new_data_test = pd.concat([newX_test,newY_test],axis=1)\n",
    "\n",
    "\n",
    "    # EKSEKUSI KE model\n",
    "\n",
    "    # predict knn\n",
    "    k_nei = range(1,30)\n",
    "    acc = []\n",
    "    for k in k_nei:\n",
    "        if(k == 4  and n == 6):\n",
    "            knn = KNeighborsRegressor(n_neighbors = k)\n",
    "            knn.fit(newX_train,newY_train)\n",
    "            #  Menyimpan model ke file eksternal\n",
    "            filenameknn = f'../Model/knnk{k}n{n}.pk1' \n",
    "            joblib.dump(knn, filenameknn)\n",
    "\n",
    "            # Proses Prediksi\n",
    "            y_pred = knn.predict(newX_test)\n",
    "            y_pred_shape = y_pred.reshape(-1,1)\n",
    "            y_pred_inverse = sc.inverse_transform(y_pred_shape)\n",
    "            newY_test_shape = y_test.reshape(-1,1)\n",
    "            newY_test_inverse = sc.inverse_transform(newY_test_shape)\n",
    "            mape = mean_absolute_percentage_error(y_pred_inverse, newY_test_inverse)\n",
    "            print(f\"KNN k = {k} n = {n} MAPE = {mape}\")\n",
    "\n",
    "\n",
    "    # Predict SVR dengan Bagging Regressor\n",
    "    n_estimators = range(1,30)\n",
    "    acc_svr = []\n",
    "    for e in n_estimators:\n",
    "        if(e == 2  and n == 6):\n",
    "            regr = BaggingRegressor(SVR(), n_estimators=e, random_state=0).fit(newX_train, newY_train.values.ravel())\n",
    "            # Menyimpan model ke file eksternal\n",
    "            filenameregr = f'../Model/svre{e}n{n}.pk1'\n",
    "            joblib.dump(regr, filenameregr)\n",
    "\n",
    "            # Proses Prediksi\n",
    "            y_pred = regr.predict(newX_test)\n",
    "            y_pred_shape = y_pred.reshape(-1,1)\n",
    "            y_pred_inverse = sc.inverse_transform(y_pred_shape)\n",
    "            newY_test_shape = y_test.reshape(-1,1)\n",
    "            newY_test_inverse = sc.inverse_transform(newY_test_shape)\n",
    "            mape = mean_absolute_percentage_error(y_pred_inverse, newY_test_inverse)\n",
    "            print(f\"SVR n_estimators = {e} n = {n} MAPE = {mape}\")\n",
    "\n",
    "\n",
    "    # Predict dengan from RandomForestRegressor\n",
    "    maxd = range(1,10)\n",
    "    acc_rf = []\n",
    "    for d in maxd:\n",
    "        if(d == 8  and n == 6):\n",
    "            regr = RandomForestRegressor(max_depth=d, random_state=0).fit(newX_train, newY_train.values.ravel())\n",
    "            # Menyimpan model ke file eksternal\n",
    "            filenamerf = f'../Model/rfd{d}n{n}.pk1'\n",
    "            joblib.dump(regr, filenamerf)\n",
    "\n",
    "            # Proses Prediksi\n",
    "            y_pred = regr.predict(newX_test)\n",
    "            y_pred_shape = y_pred.reshape(-1,1)\n",
    "            y_pred_inverse = sc.inverse_transform(y_pred_shape)\n",
    "            newY_test_shape = y_test.reshape(-1,1)\n",
    "            newY_test_inverse = sc.inverse_transform(newY_test_shape)\n",
    "            mape = mean_absolute_percentage_error(y_pred_inverse, newY_test_inverse)\n",
    "            print(f\"Random Forest max_depth = {d} n = {n} MAPE = {mape}\")\n"
   ]
  }
 ],
 "metadata": {
  "kernelspec": {
   "display_name": "Python 3",
   "language": "python",
   "name": "python3"
  },
  "language_info": {
   "codemirror_mode": {
    "name": "ipython",
    "version": 3
   },
   "file_extension": ".py",
   "mimetype": "text/x-python",
   "name": "python",
   "nbconvert_exporter": "python",
   "pygments_lexer": "ipython3",
   "version": "3.11.3"
  },
  "orig_nbformat": 4
 },
 "nbformat": 4,
 "nbformat_minor": 2
}
