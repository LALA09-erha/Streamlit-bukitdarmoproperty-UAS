{
 "cells": [
  {
   "attachments": {},
   "cell_type": "markdown",
   "metadata": {},
   "source": [
    "# Studi Kasus Beer Production"
   ]
  },
  {
   "attachments": {},
   "cell_type": "markdown",
   "metadata": {},
   "source": [
    "# PROSES PERAMALAN MODEL SAMPAI TAHUN 2023 JANUARI"
   ]
  },
  {
   "attachments": {},
   "cell_type": "markdown",
   "metadata": {},
   "source": [
    "## PROFILE KELOMPOK\n",
    "\n",
    "\n",
    "NPM KETUA : 200411100153\n",
    "\n",
    "NAMA KETUA : FIKRI AINUN NAJIB\n",
    "\n",
    "NPM ANGGOTA : 200411100166\n",
    "\n",
    "NAMA ANGGOTA : GHANIY ALBAR RASYIDI KUSUMA\n",
    "\n",
    "GITHUB : https://github.com/LALA09-erha/kolaborasipro\n",
    "\n",
    "DATASET : https://www.kaggle.com/datasets/shenba/time-series-datasets?select=monthly-beer-production-in-austr.csv\n",
    "\n",
    "\n",
    "KELAS PSD C"
   ]
  },
  {
   "attachments": {},
   "cell_type": "markdown",
   "metadata": {},
   "source": [
    "Inisialisasi Libary dan beberapa Model"
   ]
  },
  {
   "cell_type": "code",
   "execution_count": 32,
   "metadata": {},
   "outputs": [],
   "source": [
    "import pandas as pd\n",
    "from sklearn.model_selection import train_test_split\n",
    "from sklearn.preprocessing import MinMaxScaler\n",
    "import numpy as np\n",
    "from numpy import array\n",
    "from sklearn.neighbors import KNeighborsRegressor\n",
    "import matplotlib.pyplot as plt\n",
    "from sklearn.svm import SVR\n",
    "from sklearn.ensemble import BaggingRegressor\n",
    "from sklearn.ensemble import RandomForestRegressor\n",
    "import datetime\n",
    "from dateutil.relativedelta import relativedelta\n",
    "\n",
    "\n"
   ]
  },
  {
   "attachments": {},
   "cell_type": "markdown",
   "metadata": {},
   "source": [
    "Pengambilan data"
   ]
  },
  {
   "cell_type": "code",
   "execution_count": 33,
   "metadata": {},
   "outputs": [],
   "source": [
    "data = pd.read_csv(\"../Data/monthly-beer-production-in-austr.csv\")\n",
    "\n",
    "# add new data input to the dataframe\n",
    "data = data ['Monthly beer production']\n"
   ]
  },
  {
   "attachments": {},
   "cell_type": "markdown",
   "metadata": {},
   "source": [
    "Split Data"
   ]
  },
  {
   "cell_type": "code",
   "execution_count": 34,
   "metadata": {},
   "outputs": [],
   "source": [
    "data_training,data_test = train_test_split(data, train_size=0.8, test_size=0.2, shuffle=False, random_state=42)"
   ]
  },
  {
   "cell_type": "code",
   "execution_count": 35,
   "metadata": {},
   "outputs": [],
   "source": [
    "data_training_new = pd.DataFrame(data_training)\n",
    "data_test_new = pd.DataFrame(data_test)"
   ]
  },
  {
   "attachments": {},
   "cell_type": "markdown",
   "metadata": {},
   "source": [
    "fungsi Cross Validation"
   ]
  },
  {
   "cell_type": "code",
   "execution_count": 36,
   "metadata": {},
   "outputs": [],
   "source": [
    "# Cross Validation\n",
    "# split a univariate sequence into samples\n",
    "def split_sequence(sequence, n_steps):\n",
    "  X, y = list(), list()\n",
    "  for i in range(len(sequence)):\n",
    "    # find the end of this pattern\n",
    "    end_ix = i + n_steps\n",
    "    # check if we are beyond the sequence\n",
    "    if end_ix > len(sequence)-1:\n",
    "      break\n",
    "    # gather input and output parts of the pattern\n",
    "    seq_x, seq_y = sequence[i:end_ix], sequence[end_ix]\n",
    "    X.append(seq_x)\n",
    "    y.append(seq_y)\n",
    "  \n",
    "  return array(X), array(y)\n",
    "# define univariate time series"
   ]
  },
  {
   "attachments": {},
   "cell_type": "markdown",
   "metadata": {},
   "source": [
    "Eksekusi Export Data Ke CSV"
   ]
  },
  {
   "cell_type": "code",
   "execution_count": 37,
   "metadata": {},
   "outputs": [
    {
     "name": "stdout",
     "output_type": "stream",
     "text": [
      "DatetimeIndex(['1995-09-30', '1995-10-31', '1995-11-30', '1995-12-31',\n",
      "               '1996-01-31', '1996-02-29', '1996-03-31', '1996-04-30',\n",
      "               '1996-05-31', '1996-06-30',\n",
      "               ...\n",
      "               '2022-03-31', '2022-04-30', '2022-05-31', '2022-06-30',\n",
      "               '2022-07-31', '2022-08-31', '2022-09-30', '2022-10-31',\n",
      "               '2022-11-30', '2022-12-31'],\n",
      "              dtype='datetime64[ns]', length=328, freq='M')\n"
     ]
    }
   ],
   "source": [
    "print(pd.date_range(start = '1995-9-1',end='2023-1-1', freq='M'))\n"
   ]
  },
  {
   "cell_type": "code",
   "execution_count": 38,
   "metadata": {},
   "outputs": [],
   "source": [
    "# PROSES MEMASUKKAN DATA PREDIKSI KE CSV\n",
    "# membuat dataframe kosong dengan 3 kolom\n",
    "data_final = pd.DataFrame(columns=['Month','KNN' , 'SVR' , 'RF'])\n",
    "# berawal pada 1995-september\n",
    "start_date = datetime.date(1995, 9, 1)\n",
    " \n",
    "# berakhir pada 2023-januari \n",
    "end_date = datetime.date(2023, 12, 1)\n",
    "\n",
    "# loop setiap bulan\n",
    "delta = relativedelta(months=1)\n",
    "while start_date <= end_date:\n",
    "  tanggal = start_date.strftime(\"%Y-%m\")\n",
    "  # Preprosssing data\n",
    "  sc = MinMaxScaler()\n",
    "  train_scaled = sc.fit_transform(data_training_new)\n",
    "  test_scaled = sc.transform(data_test_new)\n",
    "\n",
    "  # Proses Pemanggilan Cross Validation \n",
    "  X_train, y_train = split_sequence(train_scaled, 6) \n",
    "  X_test, y_test = split_sequence(test_scaled, 6) \n",
    "  # membuat kolom otomatis\n",
    "  colom = []\n",
    "  for c in range(6):\n",
    "      if(c==0):\n",
    "          colom.insert(0,\"Xt\")\n",
    "      else:\n",
    "          colom.insert(0,f\"Xt-{c}\")\n",
    "\n",
    "\n",
    "\n",
    "  # # Masukkan ke dataframe hasil dari split  squens\n",
    "  # UNTUK MEMISAHKAN X TRAIN, YTRAIN dan TEST\n",
    "  newX_train = pd.DataFrame(np.reshape(X_train, (len(X_train) , 6)),columns=colom)\n",
    "  newY_train = pd.DataFrame(y_train, columns=['Output'])\n",
    "  new_data_train = pd.concat([newX_train,newY_train],axis=1)\n",
    "  newX_test = pd.DataFrame(np.reshape(X_test, (len(X_test) , 6)),columns=colom)\n",
    "  newY_test = pd.DataFrame(y_test, columns=['Output'])\n",
    "  new_data_test = pd.concat([newX_test,newY_test],axis=1)\n",
    "\n",
    "  # EKSEKUSI KE model\n",
    "  # predict knn\n",
    "  knn = KNeighborsRegressor(n_neighbors = 4)\n",
    "  knn.fit(newX_train,newY_train)\n",
    "\n",
    "  # Proses Prediksi\n",
    "  y_pred = knn.predict(newX_test)\n",
    "  y_pred_shape = y_pred.reshape(-1,1)\n",
    "  y_pred_inverse_knn = sc.inverse_transform(y_pred_shape)\n",
    "  \n",
    "\n",
    "  # Predict SVR dengan Bagging Regressor\n",
    "  regr = BaggingRegressor(SVR(), n_estimators=2, random_state=0).fit(newX_train, newY_train.values.ravel())\n",
    "\n",
    "  # Proses Prediksi\n",
    "  y_pred = regr.predict(newX_test)\n",
    "  y_pred_shape = y_pred.reshape(-1,1)\n",
    "  y_pred_inverse_svr = sc.inverse_transform(y_pred_shape)\n",
    "  \n",
    "  \n",
    "\n",
    "  # Predict dengan from RandomForestRegressor\n",
    "  regr = RandomForestRegressor(max_depth=8, random_state=0).fit(newX_train, newY_train.values.ravel())\n",
    "\n",
    "  # Proses Prediksi\n",
    "  y_pred = regr.predict(newX_test)\n",
    "  y_pred_shape = y_pred.reshape(-1,1)\n",
    "  y_pred_inverse_rf = sc.inverse_transform(y_pred_shape)\n",
    "  \n",
    "   ## Proses Memasukkan Y_pred terakhir ke dataframe\n",
    "  data_final = pd.concat([data_final,pd.DataFrame({'Month':tanggal,'KNN':np.round(y_pred_inverse_knn[-1]),'SVR':np.round(y_pred_inverse_svr[-1]),'RF':np.round(y_pred_inverse_rf[-1])})],axis=0)\n",
    "  \n",
    "  # mean dari 3 model dimasukkan ke dataframe data_test_new \n",
    "  data_test_new = pd.concat([data_test_new,pd.DataFrame({'Monthly beer production':np.round(np.mean([y_pred_inverse_knn[-1],y_pred_inverse_svr[-1],y_pred_inverse_rf[-1]]))},index=  [0] )],axis=0)\n",
    "  start_date += delta\n",
    "\n",
    "# save data to csv\n",
    "data_final.to_csv('../Data/prediksijanuari2023.csv', index=False)\n",
    "data_test_new.to_csv('../Data/datatestjanuari2023.csv', index=False)\n",
    "\n"
   ]
  }
 ],
 "metadata": {
  "kernelspec": {
   "display_name": "Python 3",
   "language": "python",
   "name": "python3"
  },
  "language_info": {
   "codemirror_mode": {
    "name": "ipython",
    "version": 3
   },
   "file_extension": ".py",
   "mimetype": "text/x-python",
   "name": "python",
   "nbconvert_exporter": "python",
   "pygments_lexer": "ipython3",
   "version": "3.11.3"
  },
  "orig_nbformat": 4
 },
 "nbformat": 4,
 "nbformat_minor": 2
}
