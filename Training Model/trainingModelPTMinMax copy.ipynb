{
 "cells": [
  {
   "attachments": {},
   "cell_type": "markdown",
   "metadata": {},
   "source": [
    "# Studi Kasus Beer Production"
   ]
  },
  {
   "attachments": {},
   "cell_type": "markdown",
   "metadata": {},
   "source": [
    "## PROFILE KELOMPOK\n",
    "\n",
    "\n",
    "NPM KETUA : 200411100153\n",
    "\n",
    "NAMA KETUA : FIKRI AINUN NAJIB\n",
    "\n",
    "NPM ANGGOTA : 200411100166\n",
    "\n",
    "NAMA ANGGOTA : GHANIY ALBAR RASYIDI KUSUMA \n",
    "\n",
    "GITHUB : https://github.com/LALA09-erha/kolaborasipro\n",
    "\n",
    "DATASET : https://www.kaggle.com/datasets/shenba/time-series-datasets?select=monthly-beer-production-in-austr.csv\n",
    "\n",
    "MODEL : KNN REGRESI , GAUSSIAN REGRESI , bagging Regressor > SVR , random forest Regressor , stacking Regressor > [RidgeCV ,LinearSVR] \n",
    "\n",
    "KELAS PSD C"
   ]
  },
  {
   "attachments": {},
   "cell_type": "markdown",
   "metadata": {},
   "source": [
    "Inisialisasi Libary dan beberapa Model"
   ]
  },
  {
   "cell_type": "code",
   "execution_count": 1,
   "metadata": {},
   "outputs": [],
   "source": [
    "import pandas as pd\n",
    "from sklearn.model_selection import train_test_split\n",
    "from sklearn.preprocessing import MinMaxScaler\n",
    "import numpy as np\n",
    "from numpy import array\n",
    "from sklearn.neighbors import KNeighborsRegressor\n",
    "import matplotlib.pyplot as plt\n",
    "from sklearn.metrics import mean_absolute_percentage_error\n",
    "from sklearn.gaussian_process import GaussianProcessRegressor\n",
    "from sklearn.gaussian_process.kernels import DotProduct, WhiteKernel\n",
    "from sklearn.svm import SVR\n",
    "from sklearn.ensemble import BaggingRegressor\n",
    "from sklearn.ensemble import RandomForestRegressor\n",
    "from sklearn.ensemble import StackingRegressor\n",
    "from sklearn.linear_model import RidgeCV\n",
    "from sklearn.svm import LinearSVR"
   ]
  },
  {
   "attachments": {},
   "cell_type": "markdown",
   "metadata": {},
   "source": [
    "Pengambilan data"
   ]
  },
  {
   "cell_type": "code",
   "execution_count": 2,
   "metadata": {},
   "outputs": [],
   "source": [
    "data = pd.read_csv(\"../Data/BKDP.JK.csv\")\n",
    "\n",
    "# add new data input to the dataframe\n",
    "# data = data.append({'Month': '1995-09', 'Monthly beer production': 0}, ignore_index=True)\n",
    "\n",
    "data = data['Volume']"
   ]
  },
  {
   "attachments": {},
   "cell_type": "markdown",
   "metadata": {},
   "source": [
    "Split Data"
   ]
  },
  {
   "cell_type": "code",
   "execution_count": 3,
   "metadata": {},
   "outputs": [],
   "source": [
    "data_training,data_test = train_test_split(data, train_size=0.8, test_size=0.2, shuffle=False, random_state=42)"
   ]
  },
  {
   "cell_type": "code",
   "execution_count": 4,
   "metadata": {},
   "outputs": [],
   "source": [
    "data_training_new = pd.DataFrame(data_training)\n",
    "data_test_new = pd.DataFrame(data_test)"
   ]
  },
  {
   "attachments": {},
   "cell_type": "markdown",
   "metadata": {},
   "source": [
    "Preprosessing Data"
   ]
  },
  {
   "cell_type": "code",
   "execution_count": 5,
   "metadata": {},
   "outputs": [],
   "source": [
    "sc = MinMaxScaler()\n",
    "train_scaled = sc.fit_transform(data_training_new)\n",
    "test_scaled = sc.transform(data_test_new)"
   ]
  },
  {
   "attachments": {},
   "cell_type": "markdown",
   "metadata": {},
   "source": [
    "fungsi Cross Validation"
   ]
  },
  {
   "cell_type": "code",
   "execution_count": 6,
   "metadata": {},
   "outputs": [],
   "source": [
    "# Cross Validation\n",
    "# split a univariate sequence into samples\n",
    "def split_sequence(sequence, n_steps):\n",
    "  X, y = list(), list()\n",
    "  for i in range(len(sequence)):\n",
    "    # find the end of this pattern\n",
    "    end_ix = i + n_steps\n",
    "    # check if we are beyond the sequence\n",
    "    if end_ix > len(sequence)-1:\n",
    "      break\n",
    "    # gather input and output parts of the pattern\n",
    "    seq_x, seq_y = sequence[i:end_ix], sequence[end_ix]\n",
    "    X.append(seq_x)\n",
    "    y.append(seq_y)\n",
    "  \n",
    "  return array(X), array(y)\n",
    "# define univariate time series"
   ]
  },
  {
   "attachments": {},
   "cell_type": "markdown",
   "metadata": {},
   "source": [
    "Eksekusi Model"
   ]
  },
  {
   "cell_type": "code",
   "execution_count": 7,
   "metadata": {},
   "outputs": [],
   "source": [
    "n_steps = range(1,5)\n",
    "acc_fix = {}\n",
    "\n",
    "for n in n_steps:\n",
    "    # Proses Pemanggilan Cross Validation \n",
    "    X_train, y_train = split_sequence(train_scaled, n) \n",
    "    X_test, y_test = split_sequence(test_scaled, n) \n",
    "\n",
    "    # membuat kolom otomatis\n",
    "    colom = []\n",
    "    for c in range(n):\n",
    "        if(c==0):\n",
    "            colom.insert(0,\"Xt\")\n",
    "        else:\n",
    "            colom.insert(0,f\"Xt-{c}\")\n",
    "\n",
    "    # # Masukkan ke dataframe hasil dari split  squens\n",
    "    # UNTUK MEMISAHKAN X TRAIN, YTRAIN dan TEST\n",
    "    newX_train = pd.DataFrame(np.reshape(X_train, (len(X_train) , n)),columns=colom)\n",
    "    newY_train = pd.DataFrame(y_train, columns=['Output'])\n",
    "    new_data_train = pd.concat([newX_train,newY_train],axis=1)\n",
    "\n",
    "    newX_test = pd.DataFrame(np.reshape(X_test, (len(X_test) , n)),columns=colom)\n",
    "    newY_test = pd.DataFrame(y_test, columns=['Output'])\n",
    "    new_data_test = pd.concat([newX_test,newY_test],axis=1)\n",
    "\n",
    "\n",
    "    # EKSEKUSI KE model\n",
    "\n",
    "    # predict kkn\n",
    "    k_nei = range(1,30)\n",
    "    acc = []\n",
    "    for k in k_nei:\n",
    "        knn = KNeighborsRegressor(n_neighbors = k)\n",
    "        knn.fit(newX_train,newY_train)\n",
    "        y_pred = knn.predict(newX_test)\n",
    "        y_pred_shape = y_pred.reshape(-1,1)\n",
    "        y_pred_inverse = sc.inverse_transform(y_pred_shape)\n",
    "        newY_test_shape = y_test.reshape(-1,1)\n",
    "        newY_test_inverse = sc.inverse_transform(newY_test_shape)\n",
    "        mape = mean_absolute_percentage_error(y_pred_inverse, newY_test_inverse)\n",
    "        acc.append(mape)\n",
    "    \n",
    "    # masukkan ke acc-fix \n",
    "    acc_fix[f\"n-{n} kkn\"] = [min(acc) , acc.index(min(acc))+1]\n",
    "        \n",
    "    # predict gaussian regressor\n",
    "    kernel = DotProduct() + WhiteKernel()\n",
    "    gpr = GaussianProcessRegressor(kernel=kernel,random_state=0).fit(newX_train, newY_train)\n",
    "    y_pred = gpr.predict(newX_test, return_std=True)[0]\n",
    "    y_pred_shape = y_pred.reshape(-1,1)\n",
    "    y_pred_inverse = sc.inverse_transform(y_pred_shape)\n",
    "    newY_test_shape = y_test.reshape(-1,1)\n",
    "    newY_test_inverse = sc.inverse_transform(newY_test_shape)\n",
    "    # print(y_pred_inverse)\n",
    "    mape = mean_absolute_percentage_error(y_pred_inverse, newY_test_inverse)\n",
    "\n",
    "    acc_fix[f\"n-{n} gpr\"] = [mape]\n",
    "\n",
    "    # Predict SVR dengan Bagging Regressor\n",
    "    n_estimators = range(1,30)\n",
    "    acc_svr = []\n",
    "    for e in n_estimators:\n",
    "        regr = BaggingRegressor(SVR(), n_estimators=e, random_state=0).fit(newX_train, newY_train.values.ravel())\n",
    "        y_pred = regr.predict(newX_test)\n",
    "        y_pred_shape = y_pred.reshape(-1,1)\n",
    "        y_pred_inverse = sc.inverse_transform(y_pred_shape)\n",
    "        newY_test_shape = y_test.reshape(-1,1)\n",
    "        newY_test_inverse = sc.inverse_transform(newY_test_shape)\n",
    "        mape = mean_absolute_percentage_error(y_pred_inverse, newY_test_inverse)\n",
    "        acc_svr.append(mape)\n",
    "    \n",
    "    # masukkan ke acc-fix\n",
    "    acc_fix[f\"n-{n} bagsvr\"] = [min(acc_svr) , acc_svr.index(min(acc_svr))+1]\n",
    "\n",
    "    # Predict dengan from RandomForestRegressor\n",
    "    maxd = range(1,10)\n",
    "    acc_rf = []\n",
    "    for d in maxd:\n",
    "        regr = RandomForestRegressor(max_depth=d, random_state=0).fit(newX_train, newY_train.values.ravel())\n",
    "        y_pred = regr.predict(newX_test)\n",
    "        y_pred_shape = y_pred.reshape(-1,1)\n",
    "        y_pred_inverse = sc.inverse_transform(y_pred_shape)\n",
    "        newY_test_shape = y_test.reshape(-1,1)\n",
    "        newY_test_inverse = sc.inverse_transform(newY_test_shape)\n",
    "        mape = mean_absolute_percentage_error(y_pred_inverse, newY_test_inverse)\n",
    "        acc_rf.append(mape)\n",
    "    \n",
    "    # masukkan ke acc-fix\n",
    "    acc_fix[f\"n-{n} rf\"] = [min(acc_rf) , acc_rf.index(min(acc_rf)) +1]\n",
    "\n",
    "    # Prdict dengan LinearSVR , Ridge pada stacking regressors\n",
    "    estimators = [('lr', RidgeCV()),\n",
    "                ('svr', LinearSVR( random_state=42, max_iter=100000))]\n",
    "    acc_stac = []\n",
    "    for e in n_estimators:\n",
    "        reg = StackingRegressor(\n",
    "            estimators,\n",
    "            final_estimator=RandomForestRegressor(n_estimators=e,\n",
    "                                                random_state=42))\n",
    "        reg.fit(newX_train, newY_train.values.ravel())\n",
    "        y_pred = reg.predict(newX_test)\n",
    "        y_pred_shape = y_pred.reshape(-1,1)\n",
    "        y_pred_inverse = sc.inverse_transform(y_pred_shape)\n",
    "        newY_test_shape = y_test.reshape(-1,1)\n",
    "        newY_test_inverse = sc.inverse_transform(newY_test_shape)\n",
    "        mape = mean_absolute_percentage_error(y_pred_inverse, newY_test_inverse)\n",
    "        acc_stac.append(mape)\n",
    "    \n",
    "    # masukkan ke acc-fix\n",
    "    acc_fix[f\"n-{n} stac\"] = [min(acc_stac) , acc_stac.index(min(acc_stac)) +1]\n",
    " \n"
   ]
  },
  {
   "attachments": {},
   "cell_type": "markdown",
   "metadata": {},
   "source": [
    "### Hasil Berbagai Model"
   ]
  },
  {
   "attachments": {},
   "cell_type": "markdown",
   "metadata": {},
   "source": [
    "Menentukan MAPE terendah dari Berbagai Model Diatas"
   ]
  },
  {
   "cell_type": "code",
   "execution_count": 8,
   "metadata": {},
   "outputs": [
    {
     "name": "stdout",
     "output_type": "stream",
     "text": [
      "Hasil Dari Berbagai Model yang memiliki MAPE terkecil adalah: {'n-1 rf': [0.7201551440061844, 3]}\n"
     ]
    }
   ],
   "source": [
    "temp = 1\n",
    "temp2 = {}\n",
    "for m in acc_fix:\n",
    "    if(acc_fix[m][0] < temp ):\n",
    "        temp = acc_fix[m][0]\n",
    "        temp2 = {}\n",
    "        temp2[m] = acc_fix[m]\n",
    "print(f\"Hasil Dari Berbagai Model yang memiliki MAPE terkecil adalah: {temp2}\")\n",
    "        \n"
   ]
  }
 ],
 "metadata": {
  "kernelspec": {
   "display_name": "Python 3",
   "language": "python",
   "name": "python3"
  },
  "language_info": {
   "codemirror_mode": {
    "name": "ipython",
    "version": 3
   },
   "file_extension": ".py",
   "mimetype": "text/x-python",
   "name": "python",
   "nbconvert_exporter": "python",
   "pygments_lexer": "ipython3",
   "version": "3.11.3"
  },
  "orig_nbformat": 4
 },
 "nbformat": 4,
 "nbformat_minor": 2
}
