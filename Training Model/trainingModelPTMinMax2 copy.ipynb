{
 "cells": [
  {
   "attachments": {},
   "cell_type": "markdown",
   "metadata": {},
   "source": [
    "# Studi Kasus Beer Production"
   ]
  },
  {
   "attachments": {},
   "cell_type": "markdown",
   "metadata": {},
   "source": [
    "## PROFILE KELOMPOK\n",
    "\n",
    "\n",
    "NPM KETUA : 200411100153\n",
    "\n",
    "NAMA KETUA : FIKRI AINUN NAJIB\n",
    "\n",
    "NPM ANGGOTA : 200411100166\n",
    "\n",
    "NAMA ANGGOTA : GHANIY ALBAR RASYIDI KUSUMA\n",
    "\n",
    "GITHUB : https://github.com/LALA09-erha/kolaborasipro\n",
    "\n",
    "DATASET : https://www.kaggle.com/datasets/shenba/time-series-datasets?select=monthly-beer-production-in-austr.csv\n",
    "\n",
    "MODEL : KNN REGRESI , GAUSSIAN REGRESI , bagging Regressor > SVR , random forest Regressor , stacking Regressor > [RidgeCV ,LinearSVR], DummyRegressor, LinearRegression, DecisionTreeRegressor\n",
    "\n",
    "KELAS PSD C"
   ]
  },
  {
   "attachments": {},
   "cell_type": "markdown",
   "metadata": {},
   "source": [
    "Inisialisasi Libary dan beberapa Model"
   ]
  },
  {
   "cell_type": "code",
   "execution_count": 29,
   "metadata": {},
   "outputs": [],
   "source": [
    "import pandas as pd\n",
    "from sklearn.model_selection import train_test_split\n",
    "from sklearn.preprocessing import MinMaxScaler\n",
    "import numpy as np\n",
    "from numpy import array\n",
    "from sklearn.neighbors import KNeighborsRegressor\n",
    "import matplotlib.pyplot as plt\n",
    "from sklearn.metrics import mean_absolute_percentage_error\n",
    "from sklearn.gaussian_process import GaussianProcessRegressor\n",
    "from sklearn.gaussian_process.kernels import DotProduct, WhiteKernel\n",
    "from sklearn.svm import SVR\n",
    "from sklearn.ensemble import BaggingRegressor\n",
    "from sklearn.ensemble import RandomForestRegressor\n",
    "from sklearn.ensemble import StackingRegressor\n",
    "from sklearn.linear_model import RidgeCV\n",
    "from sklearn.svm import LinearSVR\n",
    "from sklearn.tree import DecisionTreeRegressor\n",
    "from sklearn.linear_model import LinearRegression\n",
    "from sklearn.dummy import DummyRegressor"
   ]
  },
  {
   "attachments": {},
   "cell_type": "markdown",
   "metadata": {},
   "source": [
    "Pengambilan data"
   ]
  },
  {
   "cell_type": "code",
   "execution_count": 30,
   "metadata": {},
   "outputs": [],
   "source": [
    "data = pd.read_csv(\"../Data/monthly-beer-production-in-austr.csv\")\n",
    "\n",
    "# add new data input to the dataframe\n",
    "# data = data.append({'Month': '1995-09', 'Monthly beer production': 0}, ignore_index=True)\n",
    "data = data ['Monthly beer production']\n"
   ]
  },
  {
   "attachments": {},
   "cell_type": "markdown",
   "metadata": {},
   "source": [
    "Split Data"
   ]
  },
  {
   "cell_type": "code",
   "execution_count": 31,
   "metadata": {},
   "outputs": [],
   "source": [
    "data_training,data_test = train_test_split(data, train_size=0.8, test_size=0.2, shuffle=False, random_state=42)"
   ]
  },
  {
   "cell_type": "code",
   "execution_count": 32,
   "metadata": {},
   "outputs": [],
   "source": [
    "data_training_new = pd.DataFrame(data_training)\n",
    "data_test_new = pd.DataFrame(data_test)"
   ]
  },
  {
   "attachments": {},
   "cell_type": "markdown",
   "metadata": {},
   "source": [
    "Preprosessing Data"
   ]
  },
  {
   "cell_type": "code",
   "execution_count": 33,
   "metadata": {},
   "outputs": [],
   "source": [
    "sc = MinMaxScaler()\n",
    "train_scaled = sc.fit_transform(data_training_new)\n",
    "test_scaled = sc.transform(data_test_new)"
   ]
  },
  {
   "attachments": {},
   "cell_type": "markdown",
   "metadata": {},
   "source": [
    "fungsi Cross Validation"
   ]
  },
  {
   "cell_type": "code",
   "execution_count": 34,
   "metadata": {},
   "outputs": [],
   "source": [
    "# Cross Validation\n",
    "# split a univariate sequence into samples\n",
    "def split_sequence(sequence, n_steps):\n",
    "  X, y = list(), list()\n",
    "  for i in range(len(sequence)):\n",
    "    # find the end of this pattern\n",
    "    end_ix = i + n_steps\n",
    "    # check if we are beyond the sequence\n",
    "    if end_ix > len(sequence)-1:\n",
    "      break\n",
    "    # gather input and output parts of the pattern\n",
    "    seq_x, seq_y = sequence[i:end_ix], sequence[end_ix]\n",
    "    X.append(seq_x)\n",
    "    y.append(seq_y)\n",
    "  \n",
    "  return array(X), array(y)\n",
    "# define univariate time series"
   ]
  },
  {
   "attachments": {},
   "cell_type": "markdown",
   "metadata": {},
   "source": [
    "Eksekusi Model"
   ]
  },
  {
   "cell_type": "code",
   "execution_count": 35,
   "metadata": {},
   "outputs": [
    {
     "name": "stdout",
     "output_type": "stream",
     "text": [
      "{'n-1 knn': [0.10138941716331257, 29], 'n-1 gpr': [0.10682291733064105], 'n-1 bagsvr': [0.09949710233664405, 1], 'n-1 rf': [0.10225707462838196, 2], 'n-1 stac': [0.136058553083642, 6], 'n-1 dt': [0.1030645637997417, 3], 'n-1 lr': [0.12845760567583306, 1], 'n-1 dr': [0.18615750869387102, 1], 'n-2 knn': [0.10028274680900791, 17], 'n-2 gpr': [0.10906140141958981], 'n-2 bagsvr': [0.10173422756521319, 1], 'n-2 rf': [0.10119012776685196, 3], 'n-2 stac': [0.11035878149083046, 25], 'n-2 dt': [0.10552479496483443, 3], 'n-2 lr': [0.12849681048473338, 1], 'n-2 dr': [0.18590076516757667, 1], 'n-3 knn': [0.09585157865328107, 7], 'n-3 gpr': [0.10781311991234968], 'n-3 bagsvr': [0.09787453007520233, 29], 'n-3 rf': [0.09448243357134146, 5], 'n-3 stac': [0.1119226357705636, 15], 'n-3 dt': [0.10421884449670733, 4], 'n-3 lr': [0.1293403107566488, 1], 'n-3 dr': [0.18392753808599016, 1], 'n-4 knn': [0.08200835382664716, 5], 'n-4 gpr': [0.10648093277107598], 'n-4 bagsvr': [0.08687363259415466, 29], 'n-4 rf': [0.07977016958980566, 9], 'n-4 stac': [0.09879327669766758, 27], 'n-4 dt': [0.0842589605512172, 6], 'n-4 lr': [0.09473403858500715, 1], 'n-4 dr': [0.17804785308164908, 1], 'n-5 knn': [0.07651146220359226, 5], 'n-5 gpr': [0.10465057863674049], 'n-5 bagsvr': [0.08209684739824737, 2], 'n-5 rf': [0.07695434700785489, 9], 'n-5 stac': [0.10719020436167116, 19], 'n-5 dt': [0.08304390731775751, 5], 'n-5 lr': [0.09377596602259304, 1], 'n-5 dr': [0.17704644233906935, 1], 'n-6 knn': [0.0707448021927608, 4], 'n-6 gpr': [0.10575651493985856], 'n-6 bagsvr': [0.07518563792189382, 2], 'n-6 rf': [0.07279313958249832, 8], 'n-6 stac': [0.10869370353732966, 24], 'n-6 dt': [0.08867263870760585, 8], 'n-6 lr': [0.09272650021382092, 1], 'n-6 dr': [0.1755033330484671, 1]}\n"
     ]
    }
   ],
   "source": [
    "# inisialisasi variabel untuk menampung hasil akurasi dan n_steps\n",
    "n_steps = range(1,7)\n",
    "acc_fix = {}\n",
    "\n",
    "for n in n_steps:\n",
    "    # Proses Pemanggilan Cross Validation \n",
    "    X_train, y_train = split_sequence(train_scaled, n) \n",
    "    X_test, y_test = split_sequence(test_scaled, n) \n",
    "\n",
    "    # membuat kolom otomatis\n",
    "    colom = []\n",
    "    for c in range(n):\n",
    "        if(c==0):\n",
    "            colom.insert(0,\"Xt\")\n",
    "        else:\n",
    "            colom.insert(0,f\"Xt-{c}\")\n",
    "\n",
    "    # # Masukkan ke dataframe hasil dari split  squens\n",
    "    # UNTUK MEMISAHKAN X TRAIN, YTRAIN dan TEST\n",
    "    newX_train = pd.DataFrame(np.reshape(X_train, (len(X_train) , n)),columns=colom)\n",
    "    newY_train = pd.DataFrame(y_train, columns=['Output'])\n",
    "    new_data_train = pd.concat([newX_train,newY_train],axis=1)\n",
    "\n",
    "    newX_test = pd.DataFrame(np.reshape(X_test, (len(X_test) , n)),columns=colom)\n",
    "    newY_test = pd.DataFrame(y_test, columns=['Output'])\n",
    "    new_data_test = pd.concat([newX_test,newY_test],axis=1)\n",
    "\n",
    "\n",
    "    # EKSEKUSI KE model\n",
    "\n",
    "    # predict knn\n",
    "    k_nei = range(1,30)\n",
    "    acc = []\n",
    "    for k in k_nei:\n",
    "        knn = KNeighborsRegressor(n_neighbors = k)\n",
    "        knn.fit(newX_train,newY_train)\n",
    "        y_pred = knn.predict(newX_test)\n",
    "        y_pred_shape = y_pred.reshape(-1,1)\n",
    "        y_pred_inverse = sc.inverse_transform(y_pred_shape)\n",
    "        newY_test_shape = y_test.reshape(-1,1)\n",
    "        newY_test_inverse = sc.inverse_transform(newY_test_shape)\n",
    "        mape = mean_absolute_percentage_error(y_pred_inverse, newY_test_inverse)\n",
    "        acc.append(mape)\n",
    "    \n",
    "    # masukkan ke acc-fix \n",
    "    acc_fix[f\"n-{n} knn\"] = [min(acc) , acc.index(min(acc))+1]\n",
    "        \n",
    "    # predict gaussian regressor\n",
    "    kernel = DotProduct() + WhiteKernel()\n",
    "    gpr = GaussianProcessRegressor(kernel=kernel,random_state=0).fit(newX_train, newY_train)\n",
    "    y_pred = gpr.predict(newX_test, return_std=True)[0]\n",
    "    y_pred_shape = y_pred.reshape(-1,1)\n",
    "    y_pred_inverse = sc.inverse_transform(y_pred_shape)\n",
    "    newY_test_shape = y_test.reshape(-1,1)\n",
    "    newY_test_inverse = sc.inverse_transform(newY_test_shape)\n",
    "    # print(y_pred_inverse)\n",
    "    mape = mean_absolute_percentage_error(y_pred_inverse, newY_test_inverse)\n",
    "\n",
    "    acc_fix[f\"n-{n} gpr\"] = [mape]\n",
    "\n",
    "    # Predict SVR dengan Bagging Regressor\n",
    "    n_estimators = range(1,30)\n",
    "    acc_svr = []\n",
    "    for e in n_estimators:\n",
    "        regr = BaggingRegressor(SVR(), n_estimators=e, random_state=0).fit(newX_train, newY_train.values.ravel())\n",
    "        y_pred = regr.predict(newX_test)\n",
    "        y_pred_shape = y_pred.reshape(-1,1)\n",
    "        y_pred_inverse = sc.inverse_transform(y_pred_shape)\n",
    "        newY_test_shape = y_test.reshape(-1,1)\n",
    "        newY_test_inverse = sc.inverse_transform(newY_test_shape)\n",
    "        mape = mean_absolute_percentage_error(y_pred_inverse, newY_test_inverse)\n",
    "        acc_svr.append(mape)\n",
    "    \n",
    "    # masukkan ke acc-fix\n",
    "    acc_fix[f\"n-{n} bagsvr\"] = [min(acc_svr) , acc_svr.index(min(acc_svr))+1]\n",
    "\n",
    "    # Predict dengan from RandomForestRegressor\n",
    "    maxd = range(1,10)\n",
    "    acc_rf = []\n",
    "    for d in maxd:\n",
    "        regr = RandomForestRegressor(max_depth=d, random_state=0).fit(newX_train, newY_train.values.ravel())\n",
    "        y_pred = regr.predict(newX_test)\n",
    "        y_pred_shape = y_pred.reshape(-1,1)\n",
    "        y_pred_inverse = sc.inverse_transform(y_pred_shape)\n",
    "        newY_test_shape = y_test.reshape(-1,1)\n",
    "        newY_test_inverse = sc.inverse_transform(newY_test_shape)\n",
    "        mape = mean_absolute_percentage_error(y_pred_inverse, newY_test_inverse)\n",
    "        acc_rf.append(mape)\n",
    "    \n",
    "    # masukkan ke acc-fix\n",
    "    acc_fix[f\"n-{n} rf\"] = [min(acc_rf) , acc_rf.index(min(acc_rf))+1]\n",
    "\n",
    "    # Prdict dengan LinearSVR , Ridge pada stacking regressors\n",
    "    estimators = [('lr', RidgeCV()),\n",
    "                ('svr', LinearSVR(random_state=42, max_iter=100000))]\n",
    "    acc_stac = []\n",
    "    for e in n_estimators:\n",
    "        reg = StackingRegressor(\n",
    "            estimators,\n",
    "            final_estimator=RandomForestRegressor(n_estimators=e,\n",
    "                                                random_state=42))\n",
    "        reg.fit(newX_train, newY_train.values.ravel())\n",
    "        y_pred = reg.predict(newX_test)\n",
    "        y_pred_shape = y_pred.reshape(-1,1)\n",
    "        y_pred_inverse = sc.inverse_transform(y_pred_shape)\n",
    "        newY_test_shape = y_test.reshape(-1,1)\n",
    "        newY_test_inverse = sc.inverse_transform(newY_test_shape)\n",
    "        mape = mean_absolute_percentage_error(y_pred_inverse, newY_test_inverse)\n",
    "        acc_stac.append(mape)\n",
    "    \n",
    "    # masukkan ke acc-fix\n",
    "    acc_fix[f\"n-{n} stac\"] = [min(acc_stac) , acc_stac.index(min(acc_stac))+1]\n",
    "\n",
    "     \n",
    "    #Predict dengan Decission Tree Regresor\n",
    "    dt_max_depth = range(1, 10)\n",
    "    acc_dt = []\n",
    "    for depth in dt_max_depth:\n",
    "        dt = DecisionTreeRegressor(max_depth=depth)\n",
    "        dt.fit(newX_train, newY_train)\n",
    "        y_pred_dt = dt.predict(newX_test)\n",
    "        y_pred_dt_shape = y_pred_dt.reshape(-1, 1)\n",
    "        y_pred_dt_inverse = sc.inverse_transform(y_pred_dt_shape)\n",
    "        mape = mean_absolute_percentage_error(y_pred_dt_inverse, newY_test_inverse)\n",
    "        acc_dt.append(mape)\n",
    "        \n",
    "    # masukkan ke acc-fix    \n",
    "    acc_fix[f\"n-{n} dt\"] = [min(acc_dt) , acc_dt.index(min(acc_dt))+1]\n",
    "    \n",
    "    #Linier Regressor\n",
    "    acc_lr =[]\n",
    "    lr = LinearRegression()\n",
    "    lr.fit(newX_train, newY_train)\n",
    "    y_pred_lr = lr.predict(newX_test)\n",
    "    y_pred_lr_shape = y_pred_lr.reshape(-1, 1)\n",
    "    y_pred_lr_inverse = sc.inverse_transform(y_pred_lr_shape)\n",
    "    mape_lr = mean_absolute_percentage_error(y_pred_lr_inverse, newY_test_inverse)\n",
    "    acc_lr.append(mape)\n",
    "    \n",
    "    # masukkan ke acc-fix    \n",
    "    acc_fix[f\"n-{n} lr\"] = [min(acc_lr) , acc_lr.index(min(acc_lr))+1]\n",
    "    \n",
    "    #Dummy Regressor\n",
    "    acc_dr = []\n",
    "    dummy = DummyRegressor()\n",
    "    dummy.fit(newX_train, newY_train)\n",
    "    y_pred_dummy = dummy.predict(newX_test)\n",
    "    y_pred_dummy_shape = y_pred_dummy.reshape(-1, 1)\n",
    "    y_pred_dummy_inverse = sc.inverse_transform(y_pred_dummy_shape)\n",
    "    mape = mean_absolute_percentage_error(y_pred_dummy_inverse, newY_test_inverse)\n",
    "    acc_dr.append(mape)\n",
    "    \n",
    "    \n",
    "    # masukkan ke acc-fix    \n",
    "    acc_fix[f\"n-{n} dr\"] = [min(acc_dr) , acc_dr.index(min(acc_dr))+1]\n",
    " \n",
    "\n",
    "print(acc_fix)\n"
   ]
  },
  {
   "attachments": {},
   "cell_type": "markdown",
   "metadata": {},
   "source": [
    "### Hasil Berbagai Model"
   ]
  },
  {
   "attachments": {},
   "cell_type": "markdown",
   "metadata": {},
   "source": [
    "Menentukan MAPE terendah dari Berbagai Model Diatas , mengambil 3 hasil terendah\n"
   ]
  },
  {
   "cell_type": "code",
   "execution_count": 42,
   "metadata": {},
   "outputs": [
    {
     "name": "stdout",
     "output_type": "stream",
     "text": [
      "[('n-6 knn', [0.0707448021927608, 4]), ('n-6 rf', [0.07279313958249832, 8]), ('n-6 bagsvr', [0.07518563792189382, 2])]\n"
     ]
    }
   ],
   "source": [
    "dict_acc = {}\n",
    "for m in acc_fix:\n",
    "    dict_acc[m] = acc_fix[m]\n",
    "# # mengambil 3 nilai terendah dari dict_acc\n",
    "sorted_dict_acc = sorted(dict_acc.items(), key=lambda x: x[1])[:3]\n",
    "print(sorted_dict_acc)\n"
   ]
  },
  {
   "attachments": {},
   "cell_type": "markdown",
   "metadata": {},
   "source": [
    "- Yang terbaik adalah model dengan MAPE terendah Knn Regresi dengan k = 4 dan n = 6 \n",
    "- Yang terbaik adalah model dengan MAPE terendah RandomForestRegressor  dengan d = 8 dan n = 6 \n",
    "- Yang terbaik adalah model dengan MAPE terendah  SVR dengan Bagging Regressor  dengan e = 2 dan n = 6 "
   ]
  }
 ],
 "metadata": {
  "kernelspec": {
   "display_name": "Python 3",
   "language": "python",
   "name": "python3"
  },
  "language_info": {
   "codemirror_mode": {
    "name": "ipython",
    "version": 3
   },
   "file_extension": ".py",
   "mimetype": "text/x-python",
   "name": "python",
   "nbconvert_exporter": "python",
   "pygments_lexer": "ipython3",
   "version": "3.11.3"
  },
  "orig_nbformat": 4
 },
 "nbformat": 4,
 "nbformat_minor": 2
}
