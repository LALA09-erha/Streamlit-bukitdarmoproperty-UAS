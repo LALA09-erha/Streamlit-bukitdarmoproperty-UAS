{
 "cells": [
  {
   "cell_type": "code",
   "execution_count": 423,
   "metadata": {},
   "outputs": [],
   "source": [
    "import pandas as pd\n",
    "from sklearn.model_selection import train_test_split\n",
    "from sklearn.preprocessing import MinMaxScaler\n",
    "import numpy as np\n",
    "from numpy import array\n",
    "from sklearn.neighbors import KNeighborsRegressor\n",
    "import matplotlib.pyplot as plt\n",
    "from sklearn.metrics import accuracy_score\n",
    "\n"
   ]
  },
  {
   "cell_type": "code",
   "execution_count": 424,
   "metadata": {},
   "outputs": [
    {
     "data": {
      "text/html": [
       "<div>\n",
       "<style scoped>\n",
       "    .dataframe tbody tr th:only-of-type {\n",
       "        vertical-align: middle;\n",
       "    }\n",
       "\n",
       "    .dataframe tbody tr th {\n",
       "        vertical-align: top;\n",
       "    }\n",
       "\n",
       "    .dataframe thead th {\n",
       "        text-align: right;\n",
       "    }\n",
       "</style>\n",
       "<table border=\"1\" class=\"dataframe\">\n",
       "  <thead>\n",
       "    <tr style=\"text-align: right;\">\n",
       "      <th></th>\n",
       "      <th>Month</th>\n",
       "      <th>Passengers</th>\n",
       "    </tr>\n",
       "  </thead>\n",
       "  <tbody>\n",
       "    <tr>\n",
       "      <th>0</th>\n",
       "      <td>1949-01</td>\n",
       "      <td>112</td>\n",
       "    </tr>\n",
       "    <tr>\n",
       "      <th>1</th>\n",
       "      <td>1949-02</td>\n",
       "      <td>118</td>\n",
       "    </tr>\n",
       "    <tr>\n",
       "      <th>2</th>\n",
       "      <td>1949-03</td>\n",
       "      <td>132</td>\n",
       "    </tr>\n",
       "    <tr>\n",
       "      <th>3</th>\n",
       "      <td>1949-04</td>\n",
       "      <td>129</td>\n",
       "    </tr>\n",
       "    <tr>\n",
       "      <th>4</th>\n",
       "      <td>1949-05</td>\n",
       "      <td>121</td>\n",
       "    </tr>\n",
       "    <tr>\n",
       "      <th>...</th>\n",
       "      <td>...</td>\n",
       "      <td>...</td>\n",
       "    </tr>\n",
       "    <tr>\n",
       "      <th>139</th>\n",
       "      <td>1960-08</td>\n",
       "      <td>606</td>\n",
       "    </tr>\n",
       "    <tr>\n",
       "      <th>140</th>\n",
       "      <td>1960-09</td>\n",
       "      <td>508</td>\n",
       "    </tr>\n",
       "    <tr>\n",
       "      <th>141</th>\n",
       "      <td>1960-10</td>\n",
       "      <td>461</td>\n",
       "    </tr>\n",
       "    <tr>\n",
       "      <th>142</th>\n",
       "      <td>1960-11</td>\n",
       "      <td>390</td>\n",
       "    </tr>\n",
       "    <tr>\n",
       "      <th>143</th>\n",
       "      <td>1960-12</td>\n",
       "      <td>432</td>\n",
       "    </tr>\n",
       "  </tbody>\n",
       "</table>\n",
       "<p>144 rows × 2 columns</p>\n",
       "</div>"
      ],
      "text/plain": [
       "       Month  Passengers\n",
       "0    1949-01         112\n",
       "1    1949-02         118\n",
       "2    1949-03         132\n",
       "3    1949-04         129\n",
       "4    1949-05         121\n",
       "..       ...         ...\n",
       "139  1960-08         606\n",
       "140  1960-09         508\n",
       "141  1960-10         461\n",
       "142  1960-11         390\n",
       "143  1960-12         432\n",
       "\n",
       "[144 rows x 2 columns]"
      ]
     },
     "execution_count": 424,
     "metadata": {},
     "output_type": "execute_result"
    }
   ],
   "source": [
    "data = pd.read_csv(\"airline-passengers.csv\")\n",
    "data"
   ]
  },
  {
   "attachments": {},
   "cell_type": "markdown",
   "metadata": {},
   "source": [
    "## Split Data"
   ]
  },
  {
   "attachments": {},
   "cell_type": "markdown",
   "metadata": {},
   "source": [
    "Training 0.8 dan Test 0.2"
   ]
  },
  {
   "cell_type": "code",
   "execution_count": 425,
   "metadata": {},
   "outputs": [
    {
     "name": "stdout",
     "output_type": "stream",
     "text": [
      "(115, 1) (29, 1)\n"
     ]
    }
   ],
   "source": [
    "training_set = data.iloc[:115, 1:2].values\n",
    "test_set = data.iloc[115:, 1:2].values\n",
    "training_set =pd.DataFrame(training_set)\n",
    "test_set =pd.DataFrame(test_set)\n",
    "\n",
    "print((training_set).shape , (test_set).shape)"
   ]
  },
  {
   "attachments": {},
   "cell_type": "markdown",
   "metadata": {},
   "source": [
    "## PreProsessing Minmax"
   ]
  },
  {
   "cell_type": "code",
   "execution_count": 426,
   "metadata": {},
   "outputs": [
    {
     "data": {
      "text/plain": [
       "numpy.ndarray"
      ]
     },
     "execution_count": 426,
     "metadata": {},
     "output_type": "execute_result"
    }
   ],
   "source": [
    "from sklearn.preprocessing import MinMaxScaler\n",
    "\n",
    "sc = MinMaxScaler(feature_range = (0, 1))\n",
    "training_set_scaled = sc.fit_transform(training_set)\n",
    "test_set_scaled = sc.fit_transform(test_set)\n",
    "type(training_set_scaled)\n"
   ]
  },
  {
   "attachments": {},
   "cell_type": "markdown",
   "metadata": {},
   "source": [
    "## transform to a supervised learning problem\n"
   ]
  },
  {
   "cell_type": "code",
   "execution_count": 427,
   "metadata": {},
   "outputs": [],
   "source": [
    "# # Creating a data structure with 60 time-steps and 1 output\n",
    "# X_train = []\n",
    "# y_train = []\n",
    "# x = 4\n",
    "# for i in range(x, 115):\n",
    "#     X_train.append(training_set_scaled[i-x:i, 0])\n",
    "#     y_train.append(training_set_scaled[i, 0])\n",
    "# X_train, y_train = np.array(X_train), np.array(y_train)\n",
    "# X_train = np.reshape(X_train, (X_train.shape[0], X_train.shape[1], 1))\n",
    "\n",
    "# print(X_train)\n",
    "# # print(y_train)"
   ]
  },
  {
   "cell_type": "code",
   "execution_count": 428,
   "metadata": {},
   "outputs": [],
   "source": [
    "# split a univariate sequence into samples\n",
    "def split_sequence(sequence, n_steps):\n",
    "  X, y = list(), list()\n",
    "  for i in range(len(sequence)):\n",
    "    # find the end of this pattern\n",
    "    end_ix = i + n_steps\n",
    "    # check if we are beyond the sequence\n",
    "    if end_ix > len(sequence)-1:\n",
    "      break\n",
    "    # gather input and output parts of the pattern\n",
    "    seq_x, seq_y = sequence[i:end_ix], sequence[end_ix]\n",
    "    X.append(seq_x)\n",
    "    y.append(seq_y)\n",
    "  \n",
    "  return array(X), array(y)\n",
    "# define univariate time series\n",
    "\n",
    "# print(df.shape)\n",
    "# transform to a supervised learning problem\n",
    "X_train, y_train = split_sequence(training_set_scaled, 3) \n",
    "X_test, y_test = split_sequence(test_set_scaled, 3) \n"
   ]
  },
  {
   "cell_type": "code",
   "execution_count": 429,
   "metadata": {},
   "outputs": [],
   "source": [
    "newX_train = pd.DataFrame(X_train.reshape(112,3),columns=['Xt-2','Xt-1','Xt'])\n",
    "newY_train = pd.DataFrame(y_train, columns=['Output'])\n",
    "newX_test = pd.DataFrame(X_test.reshape(26,3),columns=['Xt-2','Xt-1','Xt'])\n",
    "newY_test = pd.DataFrame(y_test, columns=['Output'])"
   ]
  },
  {
   "cell_type": "code",
   "execution_count": 430,
   "metadata": {},
   "outputs": [
    {
     "data": {
      "text/html": [
       "<div>\n",
       "<style scoped>\n",
       "    .dataframe tbody tr th:only-of-type {\n",
       "        vertical-align: middle;\n",
       "    }\n",
       "\n",
       "    .dataframe tbody tr th {\n",
       "        vertical-align: top;\n",
       "    }\n",
       "\n",
       "    .dataframe thead th {\n",
       "        text-align: right;\n",
       "    }\n",
       "</style>\n",
       "<table border=\"1\" class=\"dataframe\">\n",
       "  <thead>\n",
       "    <tr style=\"text-align: right;\">\n",
       "      <th></th>\n",
       "      <th>Xt-2</th>\n",
       "      <th>Xt-1</th>\n",
       "      <th>Xt</th>\n",
       "      <th>Output</th>\n",
       "    </tr>\n",
       "  </thead>\n",
       "  <tbody>\n",
       "    <tr>\n",
       "      <th>0</th>\n",
       "      <td>0.020672</td>\n",
       "      <td>0.036176</td>\n",
       "      <td>0.072351</td>\n",
       "      <td>0.064599</td>\n",
       "    </tr>\n",
       "    <tr>\n",
       "      <th>1</th>\n",
       "      <td>0.036176</td>\n",
       "      <td>0.072351</td>\n",
       "      <td>0.064599</td>\n",
       "      <td>0.043928</td>\n",
       "    </tr>\n",
       "    <tr>\n",
       "      <th>2</th>\n",
       "      <td>0.072351</td>\n",
       "      <td>0.064599</td>\n",
       "      <td>0.043928</td>\n",
       "      <td>0.080103</td>\n",
       "    </tr>\n",
       "    <tr>\n",
       "      <th>3</th>\n",
       "      <td>0.064599</td>\n",
       "      <td>0.043928</td>\n",
       "      <td>0.080103</td>\n",
       "      <td>0.113695</td>\n",
       "    </tr>\n",
       "    <tr>\n",
       "      <th>4</th>\n",
       "      <td>0.043928</td>\n",
       "      <td>0.080103</td>\n",
       "      <td>0.113695</td>\n",
       "      <td>0.113695</td>\n",
       "    </tr>\n",
       "    <tr>\n",
       "      <th>...</th>\n",
       "      <td>...</td>\n",
       "      <td>...</td>\n",
       "      <td>...</td>\n",
       "      <td>...</td>\n",
       "    </tr>\n",
       "    <tr>\n",
       "      <th>107</th>\n",
       "      <td>0.599483</td>\n",
       "      <td>0.609819</td>\n",
       "      <td>0.552972</td>\n",
       "      <td>0.666667</td>\n",
       "    </tr>\n",
       "    <tr>\n",
       "      <th>108</th>\n",
       "      <td>0.609819</td>\n",
       "      <td>0.552972</td>\n",
       "      <td>0.666667</td>\n",
       "      <td>0.630491</td>\n",
       "    </tr>\n",
       "    <tr>\n",
       "      <th>109</th>\n",
       "      <td>0.552972</td>\n",
       "      <td>0.666667</td>\n",
       "      <td>0.630491</td>\n",
       "      <td>0.669251</td>\n",
       "    </tr>\n",
       "    <tr>\n",
       "      <th>110</th>\n",
       "      <td>0.666667</td>\n",
       "      <td>0.630491</td>\n",
       "      <td>0.669251</td>\n",
       "      <td>0.855297</td>\n",
       "    </tr>\n",
       "    <tr>\n",
       "      <th>111</th>\n",
       "      <td>0.630491</td>\n",
       "      <td>0.669251</td>\n",
       "      <td>0.855297</td>\n",
       "      <td>1.000000</td>\n",
       "    </tr>\n",
       "  </tbody>\n",
       "</table>\n",
       "<p>112 rows × 4 columns</p>\n",
       "</div>"
      ],
      "text/plain": [
       "         Xt-2      Xt-1        Xt    Output\n",
       "0    0.020672  0.036176  0.072351  0.064599\n",
       "1    0.036176  0.072351  0.064599  0.043928\n",
       "2    0.072351  0.064599  0.043928  0.080103\n",
       "3    0.064599  0.043928  0.080103  0.113695\n",
       "4    0.043928  0.080103  0.113695  0.113695\n",
       "..        ...       ...       ...       ...\n",
       "107  0.599483  0.609819  0.552972  0.666667\n",
       "108  0.609819  0.552972  0.666667  0.630491\n",
       "109  0.552972  0.666667  0.630491  0.669251\n",
       "110  0.666667  0.630491  0.669251  0.855297\n",
       "111  0.630491  0.669251  0.855297  1.000000\n",
       "\n",
       "[112 rows x 4 columns]"
      ]
     },
     "execution_count": 430,
     "metadata": {},
     "output_type": "execute_result"
    }
   ],
   "source": [
    "new_data_passenger_test = pd.concat([newX_test,newY_test],axis=1)\n",
    "new_data_passenger_train = pd.concat([newX_train,newY_train],axis=1)\n",
    "new_data_passenger_train  "
   ]
  },
  {
   "attachments": {},
   "cell_type": "markdown",
   "metadata": {},
   "source": [
    "## Seleksi Fitur"
   ]
  },
  {
   "cell_type": "code",
   "execution_count": 431,
   "metadata": {},
   "outputs": [],
   "source": [
    "y_train =new_data_passenger_train['Output'] \n",
    "X_train = new_data_passenger_train.drop(columns=['Output'])\n",
    "y_test =new_data_passenger_test['Output'] \n",
    "X_test = new_data_passenger_test.drop(columns=['Output'])"
   ]
  },
  {
   "attachments": {},
   "cell_type": "markdown",
   "metadata": {},
   "source": [
    "## Eksekusi Model KNN Regresi"
   ]
  },
  {
   "cell_type": "code",
   "execution_count": 444,
   "metadata": {},
   "outputs": [
    {
     "name": "stdout",
     "output_type": "stream",
     "text": [
      "[0.22609819 0.09302326 0.0994832  0.14470284 0.1369509  0.28552972\n",
      " 0.22739018 0.31395349 0.5        0.71317829 0.88888889 0.47674419\n",
      " 0.43281654 0.25968992 0.2881137  0.34625323 0.29198966 0.38501292\n",
      " 0.47286822 0.46770026 0.71317829 0.96899225 0.85658915 0.57364341\n",
      " 0.51550388 0.48578811] [0.         0.08653846 0.16025641 0.1025641  0.30769231 0.27564103\n",
      " 0.3525641  0.51923077 0.76282051 0.79807692 0.49038462 0.31089744\n",
      " 0.16666667 0.30448718 0.34294872 0.25961538 0.34935897 0.48397436\n",
      " 0.51923077 0.72115385 1.         0.94871795 0.63461538 0.48397436\n",
      " 0.25641026 0.39102564]\n"
     ]
    }
   ],
   "source": [
    "# # pjng = 30\n",
    "# # # for i in range(pjng)\n",
    "# #     neigh = KNeighborsRegressor(n_neighbors=i)\n",
    "# #     neigh.fit(X, y)\n",
    "# #     print(neigh.predict(y))\n",
    "\n",
    "\n",
    "neigh = KNeighborsRegressor(n_neighbors=2)\n",
    "neigh.fit(X_train, y_train)\n",
    "y_pred =neigh.predict(X_test)\n",
    "print(y_pred,array(y_test))"
   ]
  }
 ],
 "metadata": {
  "language_info": {
   "name": "python"
  },
  "orig_nbformat": 4
 },
 "nbformat": 4,
 "nbformat_minor": 2
}
