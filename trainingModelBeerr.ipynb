{
 "cells": [
  {
   "attachments": {},
   "cell_type": "markdown",
   "metadata": {},
   "source": [
    "# Studi Kasus Beer Production"
   ]
  },
  {
   "attachments": {},
   "cell_type": "markdown",
   "metadata": {},
   "source": [
    "## PROFILE KELOMPOK\n",
    "\n",
    "\n",
    "NPM KETUA : 200411100153\n",
    "\n",
    "NAMA KETUA : FIKRI AINUN NAJIB\n",
    "\n",
    "NPM ANGGOTA : \n",
    "\n",
    "NAMA ANGGOTA : \n",
    "\n",
    "GITHUB : https://github.com/LALA09-erha/kolaborasipro\n",
    "\n",
    "DATASET : https://www.kaggle.com/datasets/shenba/time-series-datasets?select=monthly-beer-production-in-austr.csv\n",
    "\n",
    "MODEL : KNN REGRESI , GAUSSIAN REGRESI\n",
    "\n",
    "KELAS PSD C"
   ]
  },
  {
   "attachments": {},
   "cell_type": "markdown",
   "metadata": {},
   "source": [
    "Inisialisasi Libary"
   ]
  },
  {
   "cell_type": "code",
   "execution_count": 20,
   "metadata": {},
   "outputs": [],
   "source": [
    "import pandas as pd\n",
    "from sklearn.model_selection import train_test_split\n",
    "from sklearn.preprocessing import MinMaxScaler\n",
    "import numpy as np\n",
    "from numpy import array\n",
    "from sklearn.neighbors import KNeighborsRegressor\n",
    "import matplotlib.pyplot as plt\n",
    "from sklearn.metrics import accuracy_score\n",
    "from sklearn.metrics import mean_absolute_percentage_error\n",
    "from sklearn.gaussian_process import GaussianProcessRegressor\n",
    "from sklearn.gaussian_process.kernels import DotProduct, WhiteKernel\n"
   ]
  },
  {
   "attachments": {},
   "cell_type": "markdown",
   "metadata": {},
   "source": [
    "Pengambilan data"
   ]
  },
  {
   "cell_type": "code",
   "execution_count": 21,
   "metadata": {},
   "outputs": [],
   "source": [
    "data = pd.read_csv(\"monthly-beer-production-in-austr.csv\")\n",
    "data = data ['Monthly beer production']\n"
   ]
  },
  {
   "attachments": {},
   "cell_type": "markdown",
   "metadata": {},
   "source": [
    "Split Data"
   ]
  },
  {
   "cell_type": "code",
   "execution_count": 22,
   "metadata": {},
   "outputs": [],
   "source": [
    "data_training,data_test = train_test_split(data, train_size=0.8, test_size=0.2, shuffle=False, random_state=42)"
   ]
  },
  {
   "cell_type": "code",
   "execution_count": 23,
   "metadata": {},
   "outputs": [],
   "source": [
    "data_training_new = pd.DataFrame(data_training)\n",
    "data_test_new = pd.DataFrame(data_test)"
   ]
  },
  {
   "cell_type": "code",
   "execution_count": 24,
   "metadata": {},
   "outputs": [],
   "source": [
    "sc = MinMaxScaler()\n",
    "train_scaled = sc.fit_transform(data_training_new)\n",
    "test_scaled = sc.transform(data_test_new)"
   ]
  },
  {
   "cell_type": "code",
   "execution_count": 25,
   "metadata": {},
   "outputs": [],
   "source": [
    "# split a univariate sequence into samples\n",
    "def split_sequence(sequence, n_steps):\n",
    "  X, y = list(), list()\n",
    "  for i in range(len(sequence)):\n",
    "    # find the end of this pattern\n",
    "    end_ix = i + n_steps\n",
    "    # check if we are beyond the sequence\n",
    "    if end_ix > len(sequence)-1:\n",
    "      break\n",
    "    # gather input and output parts of the pattern\n",
    "    seq_x, seq_y = sequence[i:end_ix], sequence[end_ix]\n",
    "    X.append(seq_x)\n",
    "    y.append(seq_y)\n",
    "  \n",
    "  return array(X), array(y)\n",
    "# define univariate time series"
   ]
  },
  {
   "cell_type": "code",
   "execution_count": 26,
   "metadata": {},
   "outputs": [
    {
     "name": "stdout",
     "output_type": "stream",
     "text": [
      "{'n-1 kkn': [0.10181916745221799, 28], 'n-1 gpr': [0.1068229173306441], 'n-2 kkn': [0.10028274680900791, 16], 'n-2 gpr': [0.10906140141958477], 'n-3 kkn': [0.09585157865328107, 6], 'n-3 gpr': [0.10781311991232205]}\n"
     ]
    }
   ],
   "source": [
    "n_steps = range(1,4)\n",
    "acc_fix = {}\n",
    "\n",
    "for n in n_steps:\n",
    "    # transform to a supervised learning problem\n",
    "    X_train, y_train = split_sequence(train_scaled, n) \n",
    "    X_test, y_test = split_sequence(test_scaled, n) \n",
    "\n",
    "    # membuat kolom otomatis\n",
    "    colom = []\n",
    "    for c in range(n):\n",
    "        if(c==0):\n",
    "            colom.insert(0,\"Xt\")\n",
    "        else:\n",
    "            colom.insert(0,f\"Xt-{c}\")\n",
    "\n",
    "    # # Masukkan ke dataframe hasil dari split  squens\n",
    "    # UNTUK MEMISAHKAN X TRAIN, YTRAIN dan TEST\n",
    "    newX_train = pd.DataFrame(np.reshape(X_train, (len(X_train) , n)),columns=colom)\n",
    "    newY_train = pd.DataFrame(y_train, columns=['Output'])\n",
    "    new_data_train = pd.concat([newX_train,newY_train],axis=1)\n",
    "\n",
    "    newX_test = pd.DataFrame(np.reshape(X_test, (len(X_test) , n)),columns=colom)\n",
    "    newY_test = pd.DataFrame(y_test, columns=['Output'])\n",
    "    new_data_test = pd.concat([newX_test,newY_test],axis=1)\n",
    "\n",
    "\n",
    "    # EKSEKUSI KE model\n",
    "\n",
    "    # predict kkn\n",
    "    k_nei = range(1,30)\n",
    "    acc = []\n",
    "    for k in k_nei:\n",
    "        knn = KNeighborsRegressor(n_neighbors = k)\n",
    "        knn.fit(newX_train,newY_train)\n",
    "        y_pred = knn.predict(newX_test)\n",
    "        y_pred_shape = y_pred.reshape(-1,1)\n",
    "        y_pred_inverse = sc.inverse_transform(y_pred_shape)\n",
    "        newY_test_shape = y_test.reshape(-1,1)\n",
    "        newY_test_inverse = sc.inverse_transform(newY_test_shape)\n",
    "        mape = mean_absolute_percentage_error(y_pred_inverse, newY_test_inverse)\n",
    "        acc.append(mape)\n",
    "    \n",
    "    # masukkan ke acc-fix \n",
    "    acc_fix[f\"n-{n} kkn\"] = [min(acc) , acc.index(min(acc))]\n",
    "        \n",
    "    # predict gaussian regressor\n",
    "    kernel = DotProduct() + WhiteKernel()\n",
    "    gpr = GaussianProcessRegressor(kernel=kernel,random_state=0).fit(newX_train, newY_train)\n",
    "    y_pred = gpr.predict(newX_test, return_std=True)[0]\n",
    "    y_pred_shape = y_pred.reshape(-1,1)\n",
    "    y_pred_inverse = sc.inverse_transform(y_pred_shape)\n",
    "    newY_test_shape = y_test.reshape(-1,1)\n",
    "    newY_test_inverse = sc.inverse_transform(newY_test_shape)\n",
    "    mape = mean_absolute_percentage_error(y_pred_inverse, newY_test_inverse)\n",
    "\n",
    "    acc_fix[f\"n-{n} gpr\"] = [mape]\n",
    "print(acc_fix)\n",
    " \n",
    "\n",
    "\n"
   ]
  }
 ],
 "metadata": {
  "language_info": {
   "name": "python"
  },
  "orig_nbformat": 4
 },
 "nbformat": 4,
 "nbformat_minor": 2
}
